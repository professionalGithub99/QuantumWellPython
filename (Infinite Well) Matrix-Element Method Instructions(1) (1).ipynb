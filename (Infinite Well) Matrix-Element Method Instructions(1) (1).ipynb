{
 "cells": [
  {
   "cell_type": "markdown",
   "metadata": {},
   "source": [
    "# The matrix-element method<span STYLE=\"color:blue\">$^1$</span>\n",
    "\n",
    "The second method that we will implement is the __<span STYLE=\"color:red\">matrix-element method</span>__.  This method exploits the fact that the time-independent Schrödinger Equation (TISE) is an eigenvalue equation, $\\hat{H}|\\psi\\rangle = E|\\psi\\rangle$. Thus, when formulated numerically on a computer, the TISE can be solved efficiently with any modern computer algebra system (_e.g._ Mathematica or Matlab) or computer programmming language. Here we will use python's [NumPy package](https://numpy.org) to efficiently perform the matrix operations. \n",
    "\n",
    "<span STYLE=\"color:blue\">$^1$This exercise is adapted from Daniel Schroeder's [\"Notes on Quantum Mechanics\"](http://physics.weber.edu/schroeder/quantum/QuantumBook.pdf), section 2.2.</span>\n",
    "\n",
    "## Theoretical background\n",
    "\n",
    "Our aim is to solve the the time-independent Schrödinger Equation,\n",
    "\n",
    "$$ \\hat{H}|\\psi_n\\rangle = E_n|\\psi_n\\rangle ,$$\n",
    "\n",
    "for any arbitrary Hamiltonian $\\hat{H}$. Let's begin by introducing a set of _orthonormal_ basis functions $\\{|\\phi_j\\rangle\\}$ that are __not__ the eigenfunctions of the given Hamiltonian, but that __satisfiy the same boundary conditions__ as the desired solutions.  In this case, we can expand the solutions to the TISE in terms of the basis functions as\n",
    "\n",
    "$$ \\quad\\qquad |\\psi_n\\rangle = \\sum_j c_n^j |\\phi_j\\rangle\\,, \\qquad(1)$$\n",
    "\n",
    "such that the TISE becomes \n",
    "\n",
    "$$ \\sum_j c_n^j \\hat{H}|\\phi_j\\rangle = E_n \\sum_j c_n^j|\\phi_j\\rangle .$$\n",
    "\n",
    "Now let's take the inner product of the TISE with one of the basis functions, $\\langle \\phi_i|$:\n",
    "\n",
    "$$ \\sum_j c_n^j \\langle \\phi_i| \\hat{H}|\\phi_j\\rangle = E_n \\sum_j c_n^j \\langle \\phi_i|\\phi_j\\rangle .$$\n",
    "\n",
    "Because we are using an orthonormal basis, the inner product $\\langle\\phi_i|\\phi_j\\rangle = \\delta_{ij}$.  The quantity $\\langle\\phi_i| \\hat{H}|\\phi_j\\rangle \\equiv H_{ij} = H_{ji}^*$ is the __\"ij\" matrix element of the Hamiltonian operator between basis functions $i$ and $j$__.  Thus, the TISE becomes\n",
    "\n",
    "$$ \\sum_j H_{ij} c_n^j  = E_n \\sum_j \\delta_{ij} c_n^j .$$\n",
    "\n",
    "Expressing this equation in matrix form, \n",
    "\n",
    "\n",
    "\\begin{equation*}\n",
    "    \\qquad\\qquad  \\begin{bmatrix}\n",
    "        H_{11} & H_{12} & H_{13} & \\ldots  \\\\\n",
    "        H_{21} & H_{22} & H_{23} & \\ldots \\\\\n",
    "        H_{31} & H_{32} & H_{33} & \\ldots \\\\\n",
    "        \\vdots & \\vdots & \\vdots & \\ddots \n",
    "    \\end{bmatrix}\n",
    "    \\begin{bmatrix}\n",
    "        c_n^1 \\\\\n",
    "        c_n^2 \\\\\n",
    "        c_n^3 \\\\\n",
    "        \\vdots \n",
    "    \\end{bmatrix}\n",
    "     = E_n\n",
    "    \\begin{bmatrix}\n",
    "        c_n^1 \\\\\n",
    "        c_n^2 \\\\\n",
    "        c_n^3 \\\\\n",
    "        \\vdots \n",
    "    \\end{bmatrix}\n",
    "        \\mathrm{,}  \\qquad(2)\n",
    "\\end{equation*} \n",
    "\n",
    "\n",
    "we can see that it is an eigenvalue equation.  We will refer to Eq. (2) as the <span STYLE=\"color:blue\"><b>\"matrix-element equation.\"</b></span>   \n",
    "\n",
    "The __eigenvalues__ of the matrix-element equation are the __energies__ of the stationary-state solutions to the TISE, and are _independent of the basis functions $\\{|\\phi_j\\rangle\\}$ used to calculate the matrix elements $H_{ij}$_. The <span STYLE=\"color:red\">__eigenvectors__ of the matrix-element equation are the __coefficients__ of the corresponding wave functions in terms of the basis functions</span>, and will necessarily _depend upon the basis functions employed._  Given a consistent set of basis functions $\\{|\\phi_j\\rangle\\}$ and coefficients $\\{c_n^j\\}$, however, the wave functions calculated via Eq. (1) are basis independent.\n",
    "\n",
    "## Algorithm\n",
    "\n",
    "<div class=\"alert alert-info\">\n",
    "    We are now ready to write down the <b>matrix-element algorithm</b>.  To find the stationary-state solutions of a given Hamiltonian $\\hat{H}$:\n",
    "\n",
    "1. choose a set of basis functions $\\{|\\phi_j\\rangle\\}$ that satisfy the boundary conditions imposed by the potential, \n",
    "2. calculate the matrix elements $H_{ij} = \\langle\\phi_i| \\hat{H}|\\phi_j\\rangle$ in this basis,\n",
    "3. calculate the eigenvalues and eigenvectors of the Hamiltonian matrix via Eq. (2)\n",
    "4. constuct the stationary-state wave functions from the coefficients (_i.e._, eigenvectors) and basis functions via Eq. (1)\n",
    "</div>\n",
    "\n",
    "## Numerical errors\n",
    "\n",
    "Although the dimension of the linear vector space spanned by all normalizable wave functions (_i.e._, Hilbert space) is infinite, in practice <span STYLE=\"color:red\">we must <b>truncate</b> the number of basis vectors</span> in the sum in Eq. (1) -- and hence the dimensions of the Hamiltonian matrix in Eq. (2) -- so that our calculation can be performed on a computer.\n",
    "\n",
    "For $N$ basis vectors, since $\\hat{H}$ is Hermitian, the number of independent matrix elements $H_{ij}$ is $N(N+1)/2$.  Each of these matrix elements $H_{ij}$ is given by an integral over all space, \n",
    "\n",
    "$$ H_{ij} = \\int d^3x\\, \\phi^*_i\\, \\hat{H}\\, \\phi_j\\,, $$\n",
    "\n",
    "that can be evaulated numerically. The calculation of these matrix elements is typically the most time-consuming portion of the matrix-element computation.  \n",
    "\n",
    "When using numerical methods, one must quantify any errors introduced from approximations, which are typically due to either discretizing a continuous variable or truncating an infinite series. With the matrix-element approach, we are introducing an error into our calculation by truncating the number of basis vectors.  For a given choice of basis, we can improve the accuracy of the resulting energies and wave functions by using a larger number of basis vector. Further, we can <span STYLE=\"color:red\"><b>quantify the truncation error</b> in our calculation by varying the number of basis vectors</span> and observing by how much our results change. \n",
    "\n"
   ]
  },
  {
   "cell_type": "markdown",
   "metadata": {},
   "source": [
    "# Radial equation for spherically-symmetric potential\n",
    "\n",
    "We will restrict ourselves in this exercise to time-independent Hamiltonians in three dimensions in which the potential only depends upon the distance from the origin, $V(\\vec{r}) = V(r)$.  We will now use the spherical symmetry to make some simplifications. \n",
    "\n",
    "First, we know that the TISE in three dimensions separates into an angular equation and a radial equation.  The normalized solutions to the angular equation are the [spherical harmonics](https://en.wikipedia.org/wiki/Spherical_harmonics), $Y_l^m(\\theta,\\phi)$.  Because the solutions to the angular equation for a spherically-symmetric potential are universal, we need only solve the radial equation for whatever new potential we are given.  \n",
    "\n",
    "The radial equation includes a term proportional to the squared orbital angular momentum operator that leads to an effective contribution to the potential that depends upon the angular-momentum quantum number $l$: \n",
    "\n",
    "$$ \\quad- \\frac{\\hbar^2}{2m} \\frac{d^2 u}{d r^2} +  \\left[ \\frac{\\hbar^2}{2m} \\frac{l(l+1)}{r^2} + V(r) \\right] u(r) = E u(r)\\,, \\quad (3)$$\n",
    "\n",
    "with $u(r) = rR(r)$.  Thus, the stationary-state solutions to the radial equation are specified by <span STYLE=\"color:blue\">__two quantum numbers__: the principal quantum number $n$ and the angular-momentum quantum number $l$</span>:\n",
    "\n",
    "$$ u_{nl}(r) = \\sum_m {\\color{blue}{c_{nl}^{\\,j}}}\\, \\phi_j(r)\\,,$$\n",
    "\n",
    "where $\\{\\phi_j(r)\\}$ is a set of basis functions that satisfy the boundary conditions imposed by $V(r)$.\n",
    "\n",
    "<div class=\"alert alert-info\"> Inspection of Eq.(3) shows that the matrix elements $H_{ij}$ can be broken into three contributions:  \n",
    "\n",
    "- $- \\frac{\\displaystyle \\hbar^2}{\\displaystyle 2m} \\langle \\phi_i| \\frac{\\displaystyle d^2 }{\\displaystyle d r^2} |\\phi_j\\rangle$, \n",
    "\n",
    "- $\\frac{\\displaystyle \\hbar^2}{\\displaystyle 2m}l(l+1) \\langle \\phi_i| \\frac{\\displaystyle 1}{\\displaystyle r^2} |\\phi_j\\rangle$, and \n",
    "\n",
    "- $\\langle \\phi_i| V(r) |\\phi_j\\rangle$.\n",
    "\n",
    "We will calculate each of these contributions separately in the following code.\n",
    "</div>\n"
   ]
  },
  {
   "cell_type": "markdown",
   "metadata": {},
   "source": [
    "# Numerical implementation\n",
    "\n",
    "In the rest of the notebook, we will guide you through implementing the matrix-element method for the three-dimensional __infinite spherical well__ in Python, \n",
    "\n",
    "$$ \n",
    "V(r)=\\left\\{\\begin{array}{ll}\n",
    "0 & \\quad  r < a,\\\\\n",
    "\\infty & \\quad r \\geq a. \n",
    "\\end{array}\n",
    "\\right. \n",
    "$$\n",
    "\n",
    "Although this potential can be solved exactly, it is useful when writing code to first test it on a simple scenario for which the answer is known, and to then test it with scenarios of increasing complexity.  \n",
    "\n",
    "<div class=\"alert alert-warning\">\n",
    "    We will use <b>natural units</b> in our calculation, setting all of the quantities with dimensions ($a$, $m$, and $\\hbar$) equal to 1.  With this choice, our units of energy are now $\\frac{\\displaystyle \\hbar^2}{\\displaystyle ma^2}$.  In other words, to convert the energies obtained in our simulation to SI units, we must multiply them by the quantity $\\frac{\\displaystyle \\hbar^2}{\\displaystyle ma^2}$.   The use of natural units will not only simplify our code, but it will also make our resuts more general.  This is because we can choose <i>any</i> values of of the particle mass $m$ and width of the well $a$ at a later date and re-interpret the results of our simulation using the appropriate conversion factor(s).   \n",
    "</div>\n",
    "\n",
    "## Preliminaries and function definitions\n",
    "\n",
    "First import the modules [numpy](https://numpy.org) (_for matrix operations_); [scipy.integrate.quad](https://docs.scipy.org/doc/scipy/reference/generated/scipy.integrate.quad.html) (_to calculate the matrix elements and later normalize the wave functions_); and [matplotlib.pyplot](https://matplotlib.org) (_needed for plotting the wave functions_).\n",
    "\n",
    "Also import the constants __math.pi__ and __math.inf__ for convience."
   ]
  },
  {
   "cell_type": "code",
   "execution_count": 1,
   "metadata": {},
   "outputs": [],
   "source": [
    "import numpy as np\n",
    "import matplotlib.pyplot as plt\n",
    "from scipy.integrate import quad\n",
    "from math import pi as Pi\n",
    "from math import inf as Inf"
   ]
  },
  {
   "cell_type": "markdown",
   "metadata": {},
   "source": [
    "First define the __<span STYLE=\"color:red\">potential function V(r)</span>__.   (_This isn't really necessary for the infinite spherical well -- which is constant throughout the integration region -- but will be needed for other potentials._)"
   ]
  },
  {
   "cell_type": "code",
   "execution_count": 2,
   "metadata": {},
   "outputs": [],
   "source": [
    "global a, V0\n",
    "a=1     #size of well\n",
    "V0=Inf  #depth of well\n",
    "\n",
    "def Vr(r):\n",
    "    if abs(r) < a:\n",
    "        V = 0\n",
    "    else: \n",
    "        V = V0\n",
    "    return V"
   ]
  },
  {
   "cell_type": "markdown",
   "metadata": {},
   "source": [
    "Next, choose a set of __<span STYLE=\"color:red\">basis functions</span>__ for $u(r)$ that go to zero at $r=a$ and a number of basis vectors __Nb__.  We will use the solutions the 1D infinite square well, $\\phi_j(r) = \\sqrt{\\frac{\\displaystyle 2}{\\displaystyle a}} \\sin\\left(\\frac{\\displaystyle j\\pi r}{\\displaystyle a}\\right)$ (_these, of course, are the exact solutions for $l=0$_) and start with 10 basis vectors."
   ]
  },
  {
   "cell_type": "code",
   "execution_count": 3,
   "metadata": {},
   "outputs": [],
   "source": [
    "global Nb\n",
    "Nb=35  #number of basis vectors\n",
    "\n",
    "## Returns jth basis function at radius r\n",
    "def Basis(j,r):\n",
    "    return np.sqrt(2)*np.sin(j*Pi*r)"
   ]
  },
  {
   "cell_type": "markdown",
   "metadata": {},
   "source": [
    "## Matrix elements\n",
    "\n",
    "Now we need to calculate the __<span STYLE=\"color:red\">matrix elements $H_{jk}$</span>__.  (_Now that we are writing down explicit functions, we are changing the dummy basis indices to $j$ and $k$ so that they are not confused with the imaginary number $i$._)  \n",
    "\n",
    "### Let's begin with $-\\frac{\\displaystyle \\hbar^2}{\\displaystyle 2m}\\langle \\phi_j| \\frac{\\displaystyle d^2 }{\\displaystyle d r^2} |\\phi_k\\rangle$.  \n",
    "\n",
    "We can perform the differentiation analytically:\n",
    "\n",
    "$$ \\frac{d^2}{dr^2} \\sqrt{\\frac{2}{a}} \\sin\\left(\\frac{k\\pi r}{a}\\right) = - \\sqrt{\\frac{2}{a}} \\left(\\frac{k\\pi}{a}\\right)^2 \\sin\\left(\\frac{k\\pi r}{a}\\right) \\,.$$\n",
    "\n",
    "Therefore, \n",
    "\n",
    "$$ \\langle \\phi_j| \\frac{\\displaystyle d^2 }{\\displaystyle d r^2} |\\phi_k\\rangle = - \\left(\\frac{k\\pi}{a}\\right)^2 \\int_0^a \\sqrt{\\frac{2}{a}}\\sin\\left(\\frac{j\\pi r}{a}\\right) \\sqrt{\\frac{2}{a}}\\sin\\left(\\frac{k\\pi r}{a}\\right) dr \\,.$$\n",
    "\n",
    "But we know that the chosen basis functions are orthonormal, so \n",
    "\n",
    "$$ \\langle \\phi_j| \\frac{\\displaystyle d^2 }{\\displaystyle d r^2} |\\phi_k\\rangle = - \\left(\\frac{j\\pi}{a}\\right)^2 \\delta_{jk} \\,,$$ \n",
    "\n",
    "or \n",
    "\n",
    "$$\n",
    "-\\frac{\\hbar^2}{2m} \\langle \\phi_j| \\frac{\\displaystyle d^2 }{\\displaystyle d r^2} |\\phi_k\\rangle = \\frac{\\hbar^2}{2m} \\left(\\frac{j\\pi}{a}\\right)^2 \\delta_{jk}\n",
    "$$\n",
    "\n",
    "<div class=\"alert alert-info\">\n",
    "$\\Rightarrow$ These elements correspond to a diagonal matrix with entries $\\frac{\\displaystyle \\hbar^2}{\\displaystyle 2m} \\left(\\frac{\\displaystyle j\\pi}{\\displaystyle a}\\right)^2$.\n",
    "</div>"
   ]
  },
  {
   "cell_type": "code",
   "execution_count": 4,
   "metadata": {},
   "outputs": [],
   "source": [
    "##Matrix elements of kinetic energy term\n",
    "\n",
    "Kjk = (1/2)*(Pi/a)**2*np.diag(np.arange(1,Nb+1)**2)"
   ]
  },
  {
   "cell_type": "markdown",
   "metadata": {},
   "source": [
    "### Next, let's calculate $\\frac{\\displaystyle \\hbar^2}{\\displaystyle 2m}l(l+1) \\langle \\phi_j| \\frac{\\displaystyle 1}{\\displaystyle r^2} |\\phi_k\\rangle$.  \n",
    "\n",
    "We will calculate these matrix elements numerically using the SciPy routine [scipy.integrate.quad](https://docs.scipy.org/doc/scipy/reference/tutorial/integrate.html#general-integration-quad).  \n",
    "\n",
    "<div class=\"alert alert-warning\">For now, the angular-momentum quantum number $l$ is unspecified.  We therefore omit it from the matrix elements here, and must remember to include it later on before solving the eigenvalue equation.\n",
    "</div>"
   ]
  },
  {
   "cell_type": "code",
   "execution_count": 5,
   "metadata": {},
   "outputs": [],
   "source": [
    "##Matrix elements of angular momentum term\n",
    "##Will put in factor of l(l+1) later on, before solving eigenvalue equation\n",
    "\n",
    "def Integrand1(r,j,k):\n",
    "    return (1/2)*Basis(j,r)*Basis(k,r)/r**2\n",
    "\n",
    "##Empty matrix to fill with matrix-element values\n",
    "Ljk = np.empty([Nb,Nb])\n",
    "\n",
    "##Python array indices start at zero, but basis functions start with n,m=1\n",
    "for j in range(Nb):\n",
    "    for k in range(Nb):\n",
    "        Ljk[j,k] = quad(Integrand1, 0, a, args=(j+1,k+1))[0]\n",
    "        Ljk[k,j] = Ljk[j,k]"
   ]
  },
  {
   "cell_type": "markdown",
   "metadata": {},
   "source": [
    "### Last, we must consider $\\langle \\phi_j| V(r) |\\phi_k\\rangle$.  \n",
    "\n",
    "Here, no calculation is needed because $V(r)=0$ throughout the integration region.  Therefore, all of the matrix elements are zero."
   ]
  },
  {
   "cell_type": "code",
   "execution_count": 6,
   "metadata": {},
   "outputs": [],
   "source": [
    "##Matrix elements of potential term\n",
    "##Not necessary, but here for completeness\n",
    "\n",
    "def Integrand2(r,j,k):\n",
    "    return Basis(j,r)*Basis(k,r)*Vr(r)\n",
    "\n",
    "##Empty matrix to fill with matrix-element values\n",
    "Vjk = np.empty([Nb,Nb])\n",
    "\n",
    "##Python array indices start at zero, but basis functions start with n,m=1\n",
    "for j in range(Nb):\n",
    "    for k in range(Nb):\n",
    "        Vjk[j,k] = quad(Integrand2, 0, a, args=(j+1,k+1))[0]\n",
    "        Vjk[k,j] = Vjk[j,k]"
   ]
  },
  {
   "cell_type": "markdown",
   "metadata": {},
   "source": [
    "## Eigenvalue equation\n",
    "\n",
    "Now we can calculate the eigenvalues and eigenvectors of the Hamiltonian.  __<span STYLE=\"color:blue\">The allowed energies and wave functions are physical properties of the quantum-mechanical system, and must be independent of the choice of basis functions.</span>__  In practice, however, sensitivity to the basis choice can arise if the number of basis vectors Nb is too small."
   ]
  },
  {
   "cell_type": "code",
   "execution_count": 7,
   "metadata": {
    "scrolled": true
   },
   "outputs": [
    {
     "name": "stdout",
     "output_type": "stream",
     "text": [
      "*** Energies grouped by principal quantum number ***\n",
      "['1s']: [4.934802200544679]\n",
      "['2s', '2p']: [19.739208802178716, 10.095429782332406]\n",
      "['3s', '3p', '3d']: [44.41321980490211, 29.84031345188805, 16.608730957143212]\n",
      "['4s', '4p', '4d']: [78.95683520871486, 59.4521277284695, 41.35961555076965]\n",
      "['5s', '5p', '5d']: [123.37005501361698, 98.9349820381794, 75.92743708207331]\n",
      "\n",
      "*** Energies grouped by angular-momentum quantum number ***\n",
      "[1s--5s]: [  4.9348022   19.7392088   44.4132198   78.95683521 123.37005501\n",
      " 177.65287922]\n",
      "[1p--5p]: [ 10.09542978  29.84031345  59.45212773  98.93498204 148.29090077\n",
      " 207.52194275]\n",
      "[1d--5d]: [ 16.60873096  41.35961555  75.92743708 120.35145329 174.64003995\n",
      " 238.79590927]\n"
     ]
    }
   ],
   "source": [
    "#Calculate solutions for l=0 to Lmax-1\n",
    "Lmax = 3\n",
    "Nmax = 5\n",
    "\n",
    "#Arrays to hold eigenvalues and eigenvectors\n",
    "#Energy array indices are (n-l-1,l) == (n-ell-one, ell), where n is the principal quantum number\n",
    "#Coefficient array indices are (n-l-1,l,j) == (n-ell-one, ell, j)\n",
    "Energies=np.empty([Nb,Lmax])\n",
    "Coefficients=np.empty([Nb,Lmax,Nb])\n",
    "\n",
    "#Dictionary to convert l values to orbital notation\n",
    "Orbitals={}\n",
    "Orbitals[0]='s'\n",
    "Orbitals[1]='p'\n",
    "Orbitals[2]='d'\n",
    "Orbitals[3]='f'\n",
    "Orbitals[4]='g'\n",
    "\n",
    "#Solve eigenvalue equation\n",
    "for l in range(0,Lmax):\n",
    "    Hjk = Kjk + l*(l+1)*Ljk + Vjk\n",
    "    E, C = np.linalg.eigh(Hjk)\n",
    "    for n in range(0,Nb):\n",
    "        Energies[n,l]=E[n]\n",
    "        for j in range(0,Nb):\n",
    "            #***Note that the eigenfunctions are the *column* vectors of C***\n",
    "            Coefficients[n,l,j]=C[j,n]\n",
    "    \n",
    "print('*** Energies grouped by principal quantum number ***')\n",
    "for pn in range(1,Nmax+1):  #principal quantum number\n",
    "    En = [] \n",
    "    labels = []\n",
    "    for l in range(0,min(pn,Lmax)):\n",
    "        n=pn-l-1                   #array row index    \n",
    "        En.append(Energies[n,l])\n",
    "        labels.append(str(pn)+str(Orbitals[l]))\n",
    "    print(str(labels)+': '+str(En))\n",
    "\n",
    "#Print energies for fixed angular-momentum quantum number l\n",
    "print('\\n*** Energies grouped by angular-momentum quantum number ***')\n",
    "for l in range(0,Lmax):\n",
    "    labels = '[1' + Orbitals[l] + '--' + str(Nmax) + Orbitals[l] + str(']')\n",
    "    print(str(labels) +': '+str(Energies[:Nmax+1,l]))\n"
   ]
  },
  {
   "cell_type": "markdown",
   "metadata": {},
   "source": [
    "## Energies and wave functions\n",
    "\n",
    "The plot below shows the coefficients $c_{nl}^{j}$ versus the basis index $j$ for the few principal and angular-momentum quantum numbers.  <span STYLE=\"color:red\">The contributions from the individual basis functions $\\phi_j(r)$ __must decrease with increasing $j$__</span> if we are going to be able to truncate the expansion of the exact wave function $u_{nl}(r)$ in Eq. (1).  _(If this is not the case, we must use another approach!)_  Fortunately, we can see that in the case of the (in)finite spherical well, only a small number of basis vectors are needed to capture the behavior of the exact wave function.  "
   ]
  },
  {
   "cell_type": "code",
   "execution_count": 8,
   "metadata": {},
   "outputs": [
    {
     "data": {
      "image/png": "[encoded data removed]",
      "text/plain": [
       "<Figure size 432x288 with 1 Axes>"
      ]
     },
     "metadata": {
      "needs_background": "light"
     },
     "output_type": "display_data"
    }
   ],
   "source": [
    "#Make bar chart of coefficients to get a feel for how important the higher-j basis vectors are\n",
    "\n",
    "width = 0.1 \n",
    "count=0\n",
    "for n in range(0,Nmax):\n",
    "    for l in range(0,Lmax):\n",
    "        #First normalize the coefficients\n",
    "        C0 = Coefficients[n,l] #un-normalized coefficients\n",
    "        plt.bar(np.arange(Nb)+width*count, C0, width, label='n='+str(n)+', l='+str(l))\n",
    "        count=count+1\n",
    "        \n",
    "plt.title('Coefficients of basis vectors for expansion of $u_{nl}(r)$')\n",
    "plt.xlabel(\"j\")\n",
    "plt.ylabel('$c_{nl}^j$')  \n",
    "plt.legend(bbox_to_anchor=(1.05, 1), loc='upper left', borderaxespad=0.)\n",
    "plt.show() "
   ]
  },
  {
   "cell_type": "code",
   "execution_count": 9,
   "metadata": {},
   "outputs": [
    {
     "data": {
      "image/png": "[encoded data removed]",
      "text/plain": [
       "<Figure size 432x288 with 1 Axes>"
      ]
     },
     "metadata": {
      "needs_background": "light"
     },
     "output_type": "display_data"
    }
   ],
   "source": [
    "#initialize r values\n",
    "npts = 1000\n",
    "da = a/npts\n",
    "Rarr = np.arange(da, a+da, da)\n",
    "\n",
    "for n in range(0, Nmax):\n",
    "    for l in range(0, Lmax):\n",
    "        PsiArr = np.zeros(npts)\n",
    "        Csum = 0\n",
    "        Cj = Coefficients[n,l,:]\n",
    "        for j in range(0, Nb):\n",
    "            Csum = Csum + Coefficients[n,l,j]**2\n",
    "        Cnorm = Cj/np.sqrt(Csum)\n",
    "        for j in range(0, Nb):\n",
    "            PsiArr = PsiArr + Cnorm[j]*Basis(j,Rarr)/Rarr\n",
    "        plt.plot(Rarr,PsiArr,label='n='+str(n)+', l='+str(l))\n",
    "        \n",
    "plt.xlabel('r')\n",
    "plt.ylabel('$R_{nl}(r)$')  \n",
    "plt.legend(bbox_to_anchor=(1.05, 1), loc='upper left', borderaxespad=0.)\n",
    "plt.show() "
   ]
  },
  {
   "cell_type": "markdown",
   "metadata": {},
   "source": [
    "Now let's make an __energy-level diagram__.  (_Feel free to make it prettier by changing the colors, line styles, etc._)  "
   ]
  },
  {
   "cell_type": "code",
   "execution_count": 10,
   "metadata": {},
   "outputs": [
    {
     "data": {
      "image/png": "[encoded data removed]",
      "text/plain": [
       "<Figure size 432x288 with 1 Axes>"
      ]
     },
     "metadata": {
      "needs_background": "light"
     },
     "output_type": "display_data"
    }
   ],
   "source": [
    "#Make list of first Nmax energies for l=0 to Lmax\n",
    "Lmax = 2\n",
    "Nmax = 3\n",
    "EList = []\n",
    "xList = []\n",
    "for l in range(Lmax+1):\n",
    "    for n in range(Nmax):\n",
    "        EList.append(Energies[n,l])\n",
    "        xList.append(l)\n",
    "\n",
    "#Make list of strings to label states with the same l-value\n",
    "orbitals = []\n",
    "for l in range(Lmax+1):\n",
    "    orbitals.append('$l=$'+str(l))\n",
    "    \n",
    "#Plot energies\n",
    "fig, ax = plt.subplots()\n",
    "ax.scatter(xList, EList, s=1444, marker=\"_\", linewidth=3, zorder=3)\n",
    "\n",
    "#Add horizontal grid lines and y-axis label\n",
    "ax.grid(axis='y')\n",
    "ax.set_ylabel('$E\\\\ \\, [\\hbar^2 / ma^2]$',size=14)\n",
    "ax.set_ylim(bottom=0)\n",
    "\n",
    "#Remove x-axis tick marks\n",
    "ax.get_xaxis().set_visible(False)\n",
    "\n",
    "#Add labels for angular momentum quantum numbers\n",
    "for xi, yi, ti in zip(range(Lmax+1),np.zeros(Lmax+1),orbitals):\n",
    "    ax.annotate(ti, xy=(xi,yi), xytext=(0,-4), size=18,\n",
    "                ha=\"center\", va=\"top\", textcoords=\"offset points\")\n",
    "    \n",
    "plt.title('Energy levels of infinite spherical well')\n",
    "ax.margins(0.2)\n",
    "if (V0<Inf):\n",
    "    ax.set_ylim(top=V0)\n",
    "plt.show()"
   ]
  },
  {
   "cell_type": "markdown",
   "metadata": {},
   "source": [
    "# In-class follow-ups\n",
    "\n",
    "__Explore the simulation:__\n",
    "\n",
    "<div class=\"alert alert-success\"><b>a)</b> With the matrix-element method you must choose the number of basis vectors N to employ.  The plots above provide two guides for choosing N: \n",
    "\n",
    " 1. increase N until the energies that you are interested in are stable to the desired number of significant digits\n",
    "\n",
    " 2. increase N until the coefficients of the last few basis vectors for the wave functions that you are interested in are negligible\n",
    " \n",
    "<b>Vary the number of basis vectors and study the behavior of the energies $E_{nl}$ and coefficients $c_{nl}^j$.</b></div>\n",
    "\n",
    "* Does the number of basis vectors needed to obtain energies stable to three or four significant figures depend upon the principal quantum number $n$?  \n",
    "* Upon the angular-momentum quantum number $l$?  \n",
    "* What about the number of basis vectors needed to make the last few coefficients tiny?  \n",
    "* Do these two approaches give you similar values for the appropriate number of basis vectors?  \n",
    "\n",
    "_<span STYLE=\"color:red\"><b>Don't worry about getting things \"right\" to beyond a few digits!</b></span>  The goal of this exercise is simply for you to gain intution for the effect of changing the number of basis vectors, and for how to choose a reasonable number of basis vectors._\n",
    "\n",
    "__b)__ Once you are convinced that your numerical results are stable, compare them with the analytic solutions from __Griffiths Example 4.1__. A table with the first few zeros of $j_1(x)$ through $j_5(x)$ can be found in the Blackboard folder for this computational project. The first zero of $j_0(x)$ is $\\pi$.\n",
    "\n",
    "__c)__ Using your results for the coefficients $c_{nl}^j$, compute and plot the first three normalized radial wave functions $R_{nl}(r)$ for $l=0,1$, and 2.  Then describe their behavior _in words_.\n",
    "\n",
    "<div class=\"alert alert-warning\">\n",
    "    <b>Validate your code with a less trivial example:</b>\n",
    "\n",
    "* Determine the analytic expression for ground-state energy of the _finite_ spherical well in terms of $V_0$.  Then calculate the ground-state energy of the finite spherical well numerically for several values of $V_0$ between 5 and 50, and compare your results with the analytic solution. (_Make sure that your basis functions satisfy the new boundary conditions._)  \n",
    "</div>"
   ]
  },
  {
   "cell_type": "markdown",
   "metadata": {},
   "source": [
    "# Homework\n",
    "\n",
    "<div class=\"alert alert-success\">\n",
    "1. Use the matrix-element method to calculate the energy-levels of the Hydrogen atom through the $4s$ state ($n=4$, $l=0$) to <b>three significant figures</b>.\n",
    "    \n",
    "a) Compare your results with the known analytic solutions.  \n",
    "\n",
    " * How many basis vectors are needed?  Does the number of basis vectors required depend upon the principal quantum number?  On the angular-momentum quantum number?\n",
    "\n",
    "b) __Make an energy-level diagram for the states up to and including $E_{4s}$.__  Label the states using the quantum numbers $n$ and $l.  (_Be sure to show multiple states in cases of degeneracies._)\n",
    " \n",
    " \n",
    " * How many energy levels are below $E_{4s}$?\n",
    "\n",
    "c) Calculate numerically the ground-state wave function and the expectation value of the radial position $\\langle r \\rangle$ in the ground state to four significant figures.  \n",
    "\n",
    " * What value _should_ you obtain?  Does your calculation agree with the theoretical value?\n",
    "</div>\n",
    "\n",
    "<div class=\"alert alert-info\">\n",
    "2. Use the matrix-element method to calculate the first 10 energy-levels of the Helium atom to <b>three significant figures</b>.\n",
    "    \n",
    "a) How many basis vectors are needed?  Do you need a greater or smaller number than to obtain a similar number of energies of the hydrogen atom?\n",
    "\n",
    "b) Compare your numerical results with the [experimental He-atom energy levels](https://physics.nist.gov/PhysRefData/Handbook/Tables/heliumtable5.htm).  \n",
    "\n",
    "c) Compare your results for the ground state and first-few excited states with the results from 1st-order perturbation theory given in __Townsend Section 12.2__.\n",
    "\n",
    "d) Calculate numerically the ground-state wave function and the expectation value of the radial position $\\langle r \\rangle$ in the ground state to four significant figures.  \n",
    "\n",
    " * How does the value of $\\langle r \\rangle_{gs}$ for He compare with that for hydrogen, _and why?_\n",
    "</div>\n",
    "\n",
    "<div class=\"alert alert-warning\">\n",
    "3. Compare and constrast the shooting-method and matrix-element approches.  What are the advantages / disadvantages of each?  In what situations might you expect one or the other to be more accurate?\n",
    "</div>"
   ]
  },
  {
   "cell_type": "code",
   "execution_count": null,
   "metadata": {},
   "outputs": [],
   "source": []
  }
 ],
 "metadata": {
  "kernelspec": {
   "display_name": "Python 3",
   "language": "python",
   "name": "python3"
  },
  "language_info": {
   "codemirror_mode": {
    "name": "ipython",
    "version": 3
   },
   "file_extension": ".py",
   "mimetype": "text/x-python",
   "name": "python",
   "nbconvert_exporter": "python",
   "pygments_lexer": "ipython3",
   "version": "3.8.8"
  },
  "toc": {
   "base_numbering": 1,
   "nav_menu": {},
   "number_sections": true,
   "sideBar": true,
   "skip_h1_title": false,
   "title_cell": "Table of Contents",
   "title_sidebar": "Contents",
   "toc_cell": false,
   "toc_position": {},
   "toc_section_display": true,
   "toc_window_display": false
  }
 },
 "nbformat": 4,
 "nbformat_minor": 2
}
